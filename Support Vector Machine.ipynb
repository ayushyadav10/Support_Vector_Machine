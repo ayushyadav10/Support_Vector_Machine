{
 "cells": [
  {
   "cell_type": "markdown",
   "id": "23b3f045",
   "metadata": {
    "id": "eqyYkOHfZFQI"
   },
   "source": [
    "<a id='introduction'></a> \n",
    "\n",
    "# Support Vector Machine\n",
    "A support vector machine, or SVM, is a machine learning technique widely used in data analysis and pattern recognition. SVM is a supervised learning model, which analyses the data used for classification and regression analysis. A set of training examples is provided to the SVM algorithm, each belonging to one or the other categories. The algorithm builds a model that assigns new data (X to Y) into one of the categories that it had learnt about in the training phase. \n",
    "\n",
    "Consider the plots shown below. The graph on the left indicates the training data in space, the black coloured rings belong to one class, and the hollow rings belong to the second class. The SVM algorithm creates a hyperplane that divides this dataset into two parts so that when new data appears in space (depending on the side on which it appears), it will be classified into one of the classes. Points lying above the hyperplane will be classified as black rings, and the ones lying below as hollow rings.\n",
    "\n",
    "![alt text](https://d2a032ejo53cab.cloudfront.net/Glossary/w6ADcQcY/SVC.PNG \"SVM\")\n",
    "\n",
    "There could be more than one hyperplane dividing the data space for making the classification. Given a particular hyperplane, we can compute the distance between the hyperplane and the closest data point. Intuitively, a large distance between the data point and hyperplane (also called margin) is considered optimal. \n",
    "\n"
   ]
  },
  {
   "cell_type": "markdown",
   "id": "c7685d3d",
   "metadata": {
    "id": "7YYB8QDMZFQK"
   },
   "source": [
    "In this notebook, you will perform the following steps:\n",
    "\n",
    "1) [Import Libraries](#library)\n",
    "\n",
    "\n",
    "2) [Independent and Dependent Variable](#variable)\n",
    "\n",
    "\n",
    "3) [Support Vector Machine](#Model)\n",
    "\n",
    "\n",
    "4) [Create Hyperplane](#plane)\n",
    "\n",
    "\n",
    "5) [Plot Hyperplane](#plot)\n",
    "\n",
    "## Import Libraries "
   ]
  },
  {
   "cell_type": "code",
   "execution_count": 1,
   "id": "beb65ead",
   "metadata": {
    "id": "BeovIQhKZFQK"
   },
   "outputs": [],
   "source": [
    "# Import numpy\n",
    "import numpy as np\n",
    "\n",
    "# Import matplotlib as an alias plt and set the style\n",
    "import matplotlib.pyplot as plt\n",
    "%matplotlib inline\n",
    "plt.style.use('seaborn-darkgrid')\n",
    "\n",
    "# Import svm from sklearn\n",
    "from sklearn import svm"
   ]
  },
  {
   "cell_type": "markdown",
   "id": "beef97f1",
   "metadata": {
    "id": "ELOgNxBCZFQL"
   },
   "source": [
    "<a id='variable'></a> \n",
    "\n",
    "## Dependent and Independent Variable\n",
    "We will construct 40 separable points which will act as independent (X) and dependent/target (Y) variable."
   ]
  },
  {
   "cell_type": "code",
   "execution_count": 2,
   "id": "326a02d6",
   "metadata": {
    "id": "SmQo8LTjZFQL",
    "outputId": "305e7a1a-5e1c-49b1-fd24-f16b49782c37"
   },
   "outputs": [
    {
     "data": {
      "text/plain": [
       "(array([[-0.23594765, -1.59984279],\n",
       "        [-1.02126202,  0.2408932 ],\n",
       "        [-0.13244201, -2.97727788]]),\n",
       " [0, 0, 0])"
      ]
     },
     "execution_count": 2,
     "metadata": {},
     "output_type": "execute_result"
    }
   ],
   "source": [
    "# Create 40 separable points\n",
    "np.random.seed(0)\n",
    "X = np.r_[np.random.randn(20, 2)-[2, 2], np.random.randn(20, 2) + [2, 2]]\n",
    "Y = [0] * 20 + [1] * 20\n",
    "X[:3],Y[:3]"
   ]
  },
  {
   "cell_type": "markdown",
   "id": "e7d4de19",
   "metadata": {
    "id": "y2JGsBGtZFQM"
   },
   "source": [
    "<a id='Model'></a> \n",
    "\n",
    "## Support Vector Machine\n",
    "We will create a support vector classifier and fit the model."
   ]
  },
  {
   "cell_type": "code",
   "execution_count": 3,
   "id": "9ad121bd",
   "metadata": {
    "id": "7vRmPRHtZFQN",
    "outputId": "70c32c09-b256-4f22-e9ce-5e8613355655"
   },
   "outputs": [
    {
     "data": {
      "text/html": [
       "<style>#sk-container-id-1 {color: black;background-color: white;}#sk-container-id-1 pre{padding: 0;}#sk-container-id-1 div.sk-toggleable {background-color: white;}#sk-container-id-1 label.sk-toggleable__label {cursor: pointer;display: block;width: 100%;margin-bottom: 0;padding: 0.3em;box-sizing: border-box;text-align: center;}#sk-container-id-1 label.sk-toggleable__label-arrow:before {content: \"▸\";float: left;margin-right: 0.25em;color: #696969;}#sk-container-id-1 label.sk-toggleable__label-arrow:hover:before {color: black;}#sk-container-id-1 div.sk-estimator:hover label.sk-toggleable__label-arrow:before {color: black;}#sk-container-id-1 div.sk-toggleable__content {max-height: 0;max-width: 0;overflow: hidden;text-align: left;background-color: #f0f8ff;}#sk-container-id-1 div.sk-toggleable__content pre {margin: 0.2em;color: black;border-radius: 0.25em;background-color: #f0f8ff;}#sk-container-id-1 input.sk-toggleable__control:checked~div.sk-toggleable__content {max-height: 200px;max-width: 100%;overflow: auto;}#sk-container-id-1 input.sk-toggleable__control:checked~label.sk-toggleable__label-arrow:before {content: \"▾\";}#sk-container-id-1 div.sk-estimator input.sk-toggleable__control:checked~label.sk-toggleable__label {background-color: #d4ebff;}#sk-container-id-1 div.sk-label input.sk-toggleable__control:checked~label.sk-toggleable__label {background-color: #d4ebff;}#sk-container-id-1 input.sk-hidden--visually {border: 0;clip: rect(1px 1px 1px 1px);clip: rect(1px, 1px, 1px, 1px);height: 1px;margin: -1px;overflow: hidden;padding: 0;position: absolute;width: 1px;}#sk-container-id-1 div.sk-estimator {font-family: monospace;background-color: #f0f8ff;border: 1px dotted black;border-radius: 0.25em;box-sizing: border-box;margin-bottom: 0.5em;}#sk-container-id-1 div.sk-estimator:hover {background-color: #d4ebff;}#sk-container-id-1 div.sk-parallel-item::after {content: \"\";width: 100%;border-bottom: 1px solid gray;flex-grow: 1;}#sk-container-id-1 div.sk-label:hover label.sk-toggleable__label {background-color: #d4ebff;}#sk-container-id-1 div.sk-serial::before {content: \"\";position: absolute;border-left: 1px solid gray;box-sizing: border-box;top: 0;bottom: 0;left: 50%;z-index: 0;}#sk-container-id-1 div.sk-serial {display: flex;flex-direction: column;align-items: center;background-color: white;padding-right: 0.2em;padding-left: 0.2em;position: relative;}#sk-container-id-1 div.sk-item {position: relative;z-index: 1;}#sk-container-id-1 div.sk-parallel {display: flex;align-items: stretch;justify-content: center;background-color: white;position: relative;}#sk-container-id-1 div.sk-item::before, #sk-container-id-1 div.sk-parallel-item::before {content: \"\";position: absolute;border-left: 1px solid gray;box-sizing: border-box;top: 0;bottom: 0;left: 50%;z-index: -1;}#sk-container-id-1 div.sk-parallel-item {display: flex;flex-direction: column;z-index: 1;position: relative;background-color: white;}#sk-container-id-1 div.sk-parallel-item:first-child::after {align-self: flex-end;width: 50%;}#sk-container-id-1 div.sk-parallel-item:last-child::after {align-self: flex-start;width: 50%;}#sk-container-id-1 div.sk-parallel-item:only-child::after {width: 0;}#sk-container-id-1 div.sk-dashed-wrapped {border: 1px dashed gray;margin: 0 0.4em 0.5em 0.4em;box-sizing: border-box;padding-bottom: 0.4em;background-color: white;}#sk-container-id-1 div.sk-label label {font-family: monospace;font-weight: bold;display: inline-block;line-height: 1.2em;}#sk-container-id-1 div.sk-label-container {text-align: center;}#sk-container-id-1 div.sk-container {/* jupyter's `normalize.less` sets `[hidden] { display: none; }` but bootstrap.min.css set `[hidden] { display: none !important; }` so we also need the `!important` here to be able to override the default hidden behavior on the sphinx rendered scikit-learn.org. See: https://github.com/scikit-learn/scikit-learn/issues/21755 */display: inline-block !important;position: relative;}#sk-container-id-1 div.sk-text-repr-fallback {display: none;}</style><div id=\"sk-container-id-1\" class=\"sk-top-container\"><div class=\"sk-text-repr-fallback\"><pre>SVC(kernel=&#x27;linear&#x27;)</pre><b>In a Jupyter environment, please rerun this cell to show the HTML representation or trust the notebook. <br />On GitHub, the HTML representation is unable to render, please try loading this page with nbviewer.org.</b></div><div class=\"sk-container\" hidden><div class=\"sk-item\"><div class=\"sk-estimator sk-toggleable\"><input class=\"sk-toggleable__control sk-hidden--visually\" id=\"sk-estimator-id-1\" type=\"checkbox\" checked><label for=\"sk-estimator-id-1\" class=\"sk-toggleable__label sk-toggleable__label-arrow\">SVC</label><div class=\"sk-toggleable__content\"><pre>SVC(kernel=&#x27;linear&#x27;)</pre></div></div></div></div></div>"
      ],
      "text/plain": [
       "SVC(kernel='linear')"
      ]
     },
     "execution_count": 3,
     "metadata": {},
     "output_type": "execute_result"
    }
   ],
   "source": [
    "# Fit the model\n",
    "clf = svm.SVC(kernel=\"linear\")\n",
    "clf.fit(X, Y)"
   ]
  },
  {
   "cell_type": "markdown",
   "id": "de6a4063",
   "metadata": {
    "id": "BrB8jW8pZFQN"
   },
   "source": [
    "<a id='plane'></a> \n",
    "\n",
    "## Create Hyperplane\n",
    "\n",
    "We will make a hyperplane or a simple 2D plane separating the output of the model and classify the variables. "
   ]
  },
  {
   "cell_type": "code",
   "execution_count": 4,
   "id": "459a2ae8",
   "metadata": {
    "id": "RRrRR-WZZFQO",
    "outputId": "785f6dc7-186a-450e-d182-ba9414cf6efa",
    "scrolled": true
   },
   "outputs": [
    {
     "data": {
      "text/plain": [
       "(array([-5.        , -4.79591837, -4.59183673, -4.3877551 , -4.18367347,\n",
       "        -3.97959184, -3.7755102 , -3.57142857, -3.36734694, -3.16326531,\n",
       "        -2.95918367, -2.75510204, -2.55102041, -2.34693878, -2.14285714,\n",
       "        -1.93877551, -1.73469388, -1.53061224, -1.32653061, -1.12244898,\n",
       "        -0.91836735, -0.71428571, -0.51020408, -0.30612245, -0.10204082,\n",
       "         0.10204082,  0.30612245,  0.51020408,  0.71428571,  0.91836735,\n",
       "         1.12244898,  1.32653061,  1.53061224,  1.73469388,  1.93877551,\n",
       "         2.14285714,  2.34693878,  2.55102041,  2.75510204,  2.95918367,\n",
       "         3.16326531,  3.36734694,  3.57142857,  3.7755102 ,  3.97959184,\n",
       "         4.18367347,  4.3877551 ,  4.59183673,  4.79591837,  5.        ]),\n",
       " array([ 7.32169617,  7.03761852,  6.75354087,  6.46946322,  6.18538558,\n",
       "         5.90130793,  5.61723028,  5.33315263,  5.04907498,  4.76499733,\n",
       "         4.48091969,  4.19684204,  3.91276439,  3.62868674,  3.34460909,\n",
       "         3.06053144,  2.7764538 ,  2.49237615,  2.2082985 ,  1.92422085,\n",
       "         1.6401432 ,  1.35606556,  1.07198791,  0.78791026,  0.50383261,\n",
       "         0.21975496, -0.06432269, -0.34840033, -0.63247798, -0.91655563,\n",
       "        -1.20063328, -1.48471093, -1.76878857, -2.05286622, -2.33694387,\n",
       "        -2.62102152, -2.90509917, -3.18917682, -3.47325446, -3.75733211,\n",
       "        -4.04140976, -4.32548741, -4.60956506, -4.89364271, -5.17772035,\n",
       "        -5.461798  , -5.74587565, -6.0299533 , -6.31403095, -6.59810859]))"
      ]
     },
     "execution_count": 4,
     "metadata": {},
     "output_type": "execute_result"
    }
   ],
   "source": [
    "# Get the separating hyperplane\n",
    "\n",
    "# Coefficient of the model\n",
    "w = clf.coef_[0]  \n",
    "\n",
    "# Slope of the model\n",
    "a = -w[0] / w[1]  \n",
    "\n",
    "# Define the X coordinate\n",
    "xx = np.linspace(-5, 5) \n",
    "\n",
    "# Calculate the Y coordinate\n",
    "yy = a * xx - (clf.intercept_[0]) / w[1] \n",
    "\n",
    "xx,yy"
   ]
  },
  {
   "cell_type": "markdown",
   "id": "1fb7d994",
   "metadata": {
    "id": "NVY2aCEOZFQO"
   },
   "source": [
    "#### Construct the Upper and Lower Plane\n",
    "\n",
    "We will construct the upper and lower plane to separate hyperplane that will pass through the support vectors."
   ]
  },
  {
   "cell_type": "code",
   "execution_count": 5,
   "id": "b60666eb",
   "metadata": {
    "id": "zExUKBRaZFQO",
    "outputId": "fe5906ad-28b8-4821-8c45-f78434a11bcb"
   },
   "outputs": [
    {
     "data": {
      "text/plain": [
       "array([ 5.77921879,  5.49514114,  5.2110635 ,  4.92698585,  4.6429082 ,\n",
       "        4.35883055,  4.0747529 ,  3.79067526,  3.50659761,  3.22251996,\n",
       "        2.93844231,  2.65436466,  2.37028701,  2.08620937,  1.80213172,\n",
       "        1.51805407,  1.23397642,  0.94989877,  0.66582113,  0.38174348,\n",
       "        0.09766583, -0.18641182, -0.47048947, -0.75456712, -1.03864476,\n",
       "       -1.32272241, -1.60680006, -1.89087771, -2.17495536, -2.45903301,\n",
       "       -2.74311065, -3.0271883 , -3.31126595, -3.5953436 , -3.87942125,\n",
       "       -4.16349889, -4.44757654, -4.73165419, -5.01573184, -5.29980949,\n",
       "       -5.58388714, -5.86796478, -6.15204243, -6.43612008, -6.72019773,\n",
       "       -7.00427538, -7.28835302, -7.57243067, -7.85650832, -8.14058597])"
      ]
     },
     "execution_count": 5,
     "metadata": {},
     "output_type": "execute_result"
    }
   ],
   "source": [
    "# Construct the lower plane\n",
    "b = clf.support_vectors_[0]    \n",
    "yy_down = a * xx + (b[1] - a * b[0]) \n",
    "yy_down"
   ]
  },
  {
   "cell_type": "code",
   "execution_count": 6,
   "id": "4a1c42db",
   "metadata": {
    "id": "6yEaz1dsZFQP",
    "outputId": "a6549aab-587a-4491-9d84-71071b697b36"
   },
   "outputs": [
    {
     "data": {
      "text/plain": [
       "array([ 8.86428014,  8.58020249,  8.29612484,  8.0120472 ,  7.72796955,\n",
       "        7.4438919 ,  7.15981425,  6.8757366 ,  6.59165896,  6.30758131,\n",
       "        6.02350366,  5.73942601,  5.45534836,  5.17127071,  4.88719307,\n",
       "        4.60311542,  4.31903777,  4.03496012,  3.75088247,  3.46680482,\n",
       "        3.18272718,  2.89864953,  2.61457188,  2.33049423,  2.04641658,\n",
       "        1.76233894,  1.47826129,  1.19418364,  0.91010599,  0.62602834,\n",
       "        0.34195069,  0.05787305, -0.2262046 , -0.51028225, -0.7943599 ,\n",
       "       -1.07843755, -1.36251519, -1.64659284, -1.93067049, -2.21474814,\n",
       "       -2.49882579, -2.78290344, -3.06698108, -3.35105873, -3.63513638,\n",
       "       -3.91921403, -4.20329168, -4.48736933, -4.77144697, -5.05552462])"
      ]
     },
     "execution_count": 6,
     "metadata": {},
     "output_type": "execute_result"
    }
   ],
   "source": [
    "# Construct the upper plane\n",
    "b = clf.support_vectors_[-1]  \n",
    "yy_up = a * xx + (b[1] - a * b[0])\n",
    "yy_up"
   ]
  },
  {
   "cell_type": "markdown",
   "id": "32e092d7",
   "metadata": {
    "id": "eGAgIyv_ZFQP"
   },
   "source": [
    "<a id='plot'></a> \n",
    "\n",
    "## Plot Hyperplane\n",
    "\n",
    "We will plot the hyperplane, the data points and the nearest vectors to the planes."
   ]
  },
  {
   "cell_type": "code",
   "execution_count": 7,
   "id": "163362fa",
   "metadata": {
    "id": "QPwrkTfNZFQQ",
    "outputId": "a7059cb4-a382-4f5e-e35a-22299a775f3f",
    "scrolled": false
   },
   "outputs": [
    {
     "data": {
      "image/png": "[encoded data removed]",
      "text/plain": [
       "<Figure size 720x504 with 1 Axes>"
      ]
     },
     "metadata": {},
     "output_type": "display_data"
    }
   ],
   "source": [
    "plt.figure(figsize=(10,7))\n",
    "\n",
    "# Separating hyperplane\n",
    "plt.plot(xx, yy,'k-')        \n",
    "# Lower boundary\n",
    "plt.plot(xx, yy_down, 'k--') \n",
    "# Upper boundary\n",
    "plt.plot(xx, yy_up,'k--')   \n",
    "plt.scatter(clf.support_vectors_[:,0], clf.support_vectors_[:,1], s=80, facecolors=\"none\") \n",
    "plt.scatter(X[:, 0], X[:, 1], c=Y, cmap=plt.cm.Paired)\n",
    "plt.title('Support Vector Classifier', fontsize=14)\n",
    "plt.xlabel('X-coordinate', fontsize=12)\n",
    "plt.ylabel('Y-coordinate', fontsize=12)\n",
    "plt.show()"
   ]
  },
  {
   "cell_type": "markdown",
   "id": "8269a918",
   "metadata": {
    "id": "0m3dTsaOZFQQ"
   },
   "source": [
    "The above figure shows the classification of the data points in a separate hyperplane.<br><br>"
   ]
  }
 ],
 "metadata": {
  "colab": {
   "collapsed_sections": [],
   "name": "Support_Vector_Machine.ipynb",
   "provenance": []
  },
  "kernelspec": {
   "display_name": "Python 3 (ipykernel)",
   "language": "python",
   "name": "python3"
  },
  "language_info": {
   "codemirror_mode": {
    "name": "ipython",
    "version": 3
   },
   "file_extension": ".py",
   "mimetype": "text/x-python",
   "name": "python",
   "nbconvert_exporter": "python",
   "pygments_lexer": "ipython3",
   "version": "3.9.5"
  }
 },
 "nbformat": 4,
 "nbformat_minor": 5
}
